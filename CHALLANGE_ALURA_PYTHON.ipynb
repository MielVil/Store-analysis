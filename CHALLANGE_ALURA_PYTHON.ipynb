{
  "cells": [
    {
      "cell_type": "markdown",
      "metadata": {
        "id": "RhEdWd9YUR6H"
      },
      "source": [
        "### Importación de datos\n",
        "\n"
      ]
    },
    {
      "cell_type": "code",
      "execution_count": null,
      "metadata": {
        "colab": {
          "base_uri": "https://localhost:8080/",
          "height": 400
        },
        "id": "T3EvaeQ_INIL",
        "outputId": "919137d2-f659-4ff3-b317-bdacbded2580"
      },
      "outputs": [
        {
          "data": {
            "application/vnd.google.colaboratory.intrinsic+json": {
              "summary": "{\n  \"name\": \"tienda4\",\n  \"rows\": 2358,\n  \"fields\": [\n    {\n      \"column\": \"Producto\",\n      \"properties\": {\n        \"dtype\": \"category\",\n        \"num_unique_values\": 51,\n        \"samples\": [\n          \"Microondas\",\n          \"Set de ollas\",\n          \"Lavadora de ropa\"\n        ],\n        \"semantic_type\": \"\",\n        \"description\": \"\"\n      }\n    },\n    {\n      \"column\": \"Categor\\u00eda del Producto\",\n      \"properties\": {\n        \"dtype\": \"category\",\n        \"num_unique_values\": 8,\n        \"samples\": [\n          \"Muebles\",\n          \"Instrumentos musicales\",\n          \"Electrodom\\u00e9sticos\"\n        ],\n        \"semantic_type\": \"\",\n        \"description\": \"\"\n      }\n    },\n    {\n      \"column\": \"Precio\",\n      \"properties\": {\n        \"dtype\": \"number\",\n        \"std\": 568755.6039486045,\n        \"min\": 7600.0,\n        \"max\": 2902200.0,\n        \"num_unique_values\": 1867,\n        \"samples\": [\n          2151200.0,\n          738300.0,\n          35700.0\n        ],\n        \"semantic_type\": \"\",\n        \"description\": \"\"\n      }\n    },\n    {\n      \"column\": \"Costo de env\\u00edo\",\n      \"properties\": {\n        \"dtype\": \"number\",\n        \"std\": 30279.100835978752,\n        \"min\": 0.0,\n        \"max\": 154700.0,\n        \"num_unique_values\": 692,\n        \"samples\": [\n          73000.0,\n          21300.0,\n          48400.0\n        ],\n        \"semantic_type\": \"\",\n        \"description\": \"\"\n      }\n    },\n    {\n      \"column\": \"Fecha de Compra\",\n      \"properties\": {\n        \"dtype\": \"category\",\n        \"num_unique_values\": 1030,\n        \"samples\": [\n          \"12/06/2022\",\n          \"18/04/2021\",\n          \"24/12/2020\"\n        ],\n        \"semantic_type\": \"\",\n        \"description\": \"\"\n      }\n    },\n    {\n      \"column\": \"Vendedor\",\n      \"properties\": {\n        \"dtype\": \"category\",\n        \"num_unique_values\": 14,\n        \"samples\": [\n          \"Pedro Gomez\",\n          \"Mariana Herrera\",\n          \"Rafael Acosta\"\n        ],\n        \"semantic_type\": \"\",\n        \"description\": \"\"\n      }\n    },\n    {\n      \"column\": \"Lugar de Compra\",\n      \"properties\": {\n        \"dtype\": \"category\",\n        \"num_unique_values\": 19,\n        \"samples\": [\n          \"Bogot\\u00e1\",\n          \"Leticia\",\n          \"Barranquilla\"\n        ],\n        \"semantic_type\": \"\",\n        \"description\": \"\"\n      }\n    },\n    {\n      \"column\": \"Calificaci\\u00f3n\",\n      \"properties\": {\n        \"dtype\": \"number\",\n        \"std\": 1,\n        \"min\": 1,\n        \"max\": 5,\n        \"num_unique_values\": 5,\n        \"samples\": [\n          5,\n          2,\n          3\n        ],\n        \"semantic_type\": \"\",\n        \"description\": \"\"\n      }\n    },\n    {\n      \"column\": \"M\\u00e9todo de pago\",\n      \"properties\": {\n        \"dtype\": \"category\",\n        \"num_unique_values\": 4,\n        \"samples\": [\n          \"Nequi\",\n          \"Tarjeta de d\\u00e9bito\",\n          \"Tarjeta de cr\\u00e9dito\"\n        ],\n        \"semantic_type\": \"\",\n        \"description\": \"\"\n      }\n    },\n    {\n      \"column\": \"Cantidad de cuotas\",\n      \"properties\": {\n        \"dtype\": \"number\",\n        \"std\": 2,\n        \"min\": 1,\n        \"max\": 18,\n        \"num_unique_values\": 13,\n        \"samples\": [\n          18,\n          9,\n          3\n        ],\n        \"semantic_type\": \"\",\n        \"description\": \"\"\n      }\n    },\n    {\n      \"column\": \"lat\",\n      \"properties\": {\n        \"dtype\": \"number\",\n        \"std\": 2.37672825841418,\n        \"min\": -4.21528,\n        \"max\": 11.54444,\n        \"num_unique_values\": 19,\n        \"samples\": [\n          4.60971,\n          -4.21528,\n          10.96854\n        ],\n        \"semantic_type\": \"\",\n        \"description\": \"\"\n      }\n    },\n    {\n      \"column\": \"lon\",\n      \"properties\": {\n        \"dtype\": \"number\",\n        \"std\": 1.1997491363183892,\n        \"min\": -77.28111,\n        \"max\": -67.9239,\n        \"num_unique_values\": 19,\n        \"samples\": [\n          -74.08175,\n          -69.94056,\n          -74.78132\n        ],\n        \"semantic_type\": \"\",\n        \"description\": \"\"\n      }\n    }\n  ]\n}",
              "type": "dataframe",
              "variable_name": "tienda4"
            },
            "text/html": [
              "\n",
              "  <div id=\"df-d7482471-a1ff-44b9-a5be-570269980169\" class=\"colab-df-container\">\n",
              "    <div>\n",
              "<style scoped>\n",
              "    .dataframe tbody tr th:only-of-type {\n",
              "        vertical-align: middle;\n",
              "    }\n",
              "\n",
              "    .dataframe tbody tr th {\n",
              "        vertical-align: top;\n",
              "    }\n",
              "\n",
              "    .dataframe thead th {\n",
              "        text-align: right;\n",
              "    }\n",
              "</style>\n",
              "<table border=\"1\" class=\"dataframe\">\n",
              "  <thead>\n",
              "    <tr style=\"text-align: right;\">\n",
              "      <th></th>\n",
              "      <th>Producto</th>\n",
              "      <th>Categoría del Producto</th>\n",
              "      <th>Precio</th>\n",
              "      <th>Costo de envío</th>\n",
              "      <th>Fecha de Compra</th>\n",
              "      <th>Vendedor</th>\n",
              "      <th>Lugar de Compra</th>\n",
              "      <th>Calificación</th>\n",
              "      <th>Método de pago</th>\n",
              "      <th>Cantidad de cuotas</th>\n",
              "      <th>lat</th>\n",
              "      <th>lon</th>\n",
              "    </tr>\n",
              "  </thead>\n",
              "  <tbody>\n",
              "    <tr>\n",
              "      <th>0</th>\n",
              "      <td>Lavavajillas</td>\n",
              "      <td>Electrodomésticos</td>\n",
              "      <td>1084800.00</td>\n",
              "      <td>56000.00</td>\n",
              "      <td>11/11/2022</td>\n",
              "      <td>Rafael Acosta</td>\n",
              "      <td>Bogotá</td>\n",
              "      <td>4</td>\n",
              "      <td>Tarjeta de crédito</td>\n",
              "      <td>3</td>\n",
              "      <td>4.61</td>\n",
              "      <td>-74.08</td>\n",
              "    </tr>\n",
              "    <tr>\n",
              "      <th>1</th>\n",
              "      <td>Cama box</td>\n",
              "      <td>Muebles</td>\n",
              "      <td>473800.00</td>\n",
              "      <td>25400.00</td>\n",
              "      <td>03/01/2020</td>\n",
              "      <td>Izabela de León</td>\n",
              "      <td>Cúcuta</td>\n",
              "      <td>5</td>\n",
              "      <td>Tarjeta de crédito</td>\n",
              "      <td>2</td>\n",
              "      <td>7.89</td>\n",
              "      <td>-72.51</td>\n",
              "    </tr>\n",
              "    <tr>\n",
              "      <th>2</th>\n",
              "      <td>Balón de baloncesto</td>\n",
              "      <td>Deportes y diversión</td>\n",
              "      <td>23700.00</td>\n",
              "      <td>0.00</td>\n",
              "      <td>25/12/2022</td>\n",
              "      <td>Maria Alfonso</td>\n",
              "      <td>Medellín</td>\n",
              "      <td>5</td>\n",
              "      <td>Nequi</td>\n",
              "      <td>1</td>\n",
              "      <td>6.25</td>\n",
              "      <td>-75.56</td>\n",
              "    </tr>\n",
              "    <tr>\n",
              "      <th>3</th>\n",
              "      <td>Modelado predictivo</td>\n",
              "      <td>Libros</td>\n",
              "      <td>57700.00</td>\n",
              "      <td>1300.00</td>\n",
              "      <td>23/11/2021</td>\n",
              "      <td>Lucas Olivera</td>\n",
              "      <td>Medellín</td>\n",
              "      <td>3</td>\n",
              "      <td>Nequi</td>\n",
              "      <td>1</td>\n",
              "      <td>6.25</td>\n",
              "      <td>-75.56</td>\n",
              "    </tr>\n",
              "    <tr>\n",
              "      <th>4</th>\n",
              "      <td>Auriculares</td>\n",
              "      <td>Electrónicos</td>\n",
              "      <td>138900.00</td>\n",
              "      <td>5600.00</td>\n",
              "      <td>25/04/2022</td>\n",
              "      <td>Blanca Ramirez</td>\n",
              "      <td>Bogotá</td>\n",
              "      <td>4</td>\n",
              "      <td>Tarjeta de crédito</td>\n",
              "      <td>7</td>\n",
              "      <td>4.61</td>\n",
              "      <td>-74.08</td>\n",
              "    </tr>\n",
              "  </tbody>\n",
              "</table>\n",
              "</div>\n",
              "    <div class=\"colab-df-buttons\">\n",
              "\n",
              "  <div class=\"colab-df-container\">\n",
              "    <button class=\"colab-df-convert\" onclick=\"convertToInteractive('df-d7482471-a1ff-44b9-a5be-570269980169')\"\n",
              "            title=\"Convert this dataframe to an interactive table.\"\n",
              "            style=\"display:none;\">\n",
              "\n",
              "  <svg xmlns=\"http://www.w3.org/2000/svg\" height=\"24px\" viewBox=\"0 -960 960 960\">\n",
              "    <path d=\"M120-120v-720h720v720H120Zm60-500h600v-160H180v160Zm220 220h160v-160H400v160Zm0 220h160v-160H400v160ZM180-400h160v-160H180v160Zm440 0h160v-160H620v160ZM180-180h160v-160H180v160Zm440 0h160v-160H620v160Z\"/>\n",
              "  </svg>\n",
              "    </button>\n",
              "\n",
              "  <style>\n",
              "    .colab-df-container {\n",
              "      display:flex;\n",
              "      gap: 12px;\n",
              "    }\n",
              "\n",
              "    .colab-df-convert {\n",
              "      background-color: #E8F0FE;\n",
              "      border: none;\n",
              "      border-radius: 50%;\n",
              "      cursor: pointer;\n",
              "      display: none;\n",
              "      fill: #1967D2;\n",
              "      height: 32px;\n",
              "      padding: 0 0 0 0;\n",
              "      width: 32px;\n",
              "    }\n",
              "\n",
              "    .colab-df-convert:hover {\n",
              "      background-color: #E2EBFA;\n",
              "      box-shadow: 0px 1px 2px rgba(60, 64, 67, 0.3), 0px 1px 3px 1px rgba(60, 64, 67, 0.15);\n",
              "      fill: #174EA6;\n",
              "    }\n",
              "\n",
              "    .colab-df-buttons div {\n",
              "      margin-bottom: 4px;\n",
              "    }\n",
              "\n",
              "    [theme=dark] .colab-df-convert {\n",
              "      background-color: #3B4455;\n",
              "      fill: #D2E3FC;\n",
              "    }\n",
              "\n",
              "    [theme=dark] .colab-df-convert:hover {\n",
              "      background-color: #434B5C;\n",
              "      box-shadow: 0px 1px 3px 1px rgba(0, 0, 0, 0.15);\n",
              "      filter: drop-shadow(0px 1px 2px rgba(0, 0, 0, 0.3));\n",
              "      fill: #FFFFFF;\n",
              "    }\n",
              "  </style>\n",
              "\n",
              "    <script>\n",
              "      const buttonEl =\n",
              "        document.querySelector('#df-d7482471-a1ff-44b9-a5be-570269980169 button.colab-df-convert');\n",
              "      buttonEl.style.display =\n",
              "        google.colab.kernel.accessAllowed ? 'block' : 'none';\n",
              "\n",
              "      async function convertToInteractive(key) {\n",
              "        const element = document.querySelector('#df-d7482471-a1ff-44b9-a5be-570269980169');\n",
              "        const dataTable =\n",
              "          await google.colab.kernel.invokeFunction('convertToInteractive',\n",
              "                                                    [key], {});\n",
              "        if (!dataTable) return;\n",
              "\n",
              "        const docLinkHtml = 'Like what you see? Visit the ' +\n",
              "          '<a target=\"_blank\" href=https://colab.research.google.com/notebooks/data_table.ipynb>data table notebook</a>'\n",
              "          + ' to learn more about interactive tables.';\n",
              "        element.innerHTML = '';\n",
              "        dataTable['output_type'] = 'display_data';\n",
              "        await google.colab.output.renderOutput(dataTable, element);\n",
              "        const docLink = document.createElement('div');\n",
              "        docLink.innerHTML = docLinkHtml;\n",
              "        element.appendChild(docLink);\n",
              "      }\n",
              "    </script>\n",
              "  </div>\n",
              "\n",
              "\n",
              "    <div id=\"df-cc593f18-b0d3-45f6-972a-5695dabe14dd\">\n",
              "      <button class=\"colab-df-quickchart\" onclick=\"quickchart('df-cc593f18-b0d3-45f6-972a-5695dabe14dd')\"\n",
              "                title=\"Suggest charts\"\n",
              "                style=\"display:none;\">\n",
              "\n",
              "<svg xmlns=\"http://www.w3.org/2000/svg\" height=\"24px\"viewBox=\"0 0 24 24\"\n",
              "     width=\"24px\">\n",
              "    <g>\n",
              "        <path d=\"M19 3H5c-1.1 0-2 .9-2 2v14c0 1.1.9 2 2 2h14c1.1 0 2-.9 2-2V5c0-1.1-.9-2-2-2zM9 17H7v-7h2v7zm4 0h-2V7h2v10zm4 0h-2v-4h2v4z\"/>\n",
              "    </g>\n",
              "</svg>\n",
              "      </button>\n",
              "\n",
              "<style>\n",
              "  .colab-df-quickchart {\n",
              "      --bg-color: #E8F0FE;\n",
              "      --fill-color: #1967D2;\n",
              "      --hover-bg-color: #E2EBFA;\n",
              "      --hover-fill-color: #174EA6;\n",
              "      --disabled-fill-color: #AAA;\n",
              "      --disabled-bg-color: #DDD;\n",
              "  }\n",
              "\n",
              "  [theme=dark] .colab-df-quickchart {\n",
              "      --bg-color: #3B4455;\n",
              "      --fill-color: #D2E3FC;\n",
              "      --hover-bg-color: #434B5C;\n",
              "      --hover-fill-color: #FFFFFF;\n",
              "      --disabled-bg-color: #3B4455;\n",
              "      --disabled-fill-color: #666;\n",
              "  }\n",
              "\n",
              "  .colab-df-quickchart {\n",
              "    background-color: var(--bg-color);\n",
              "    border: none;\n",
              "    border-radius: 50%;\n",
              "    cursor: pointer;\n",
              "    display: none;\n",
              "    fill: var(--fill-color);\n",
              "    height: 32px;\n",
              "    padding: 0;\n",
              "    width: 32px;\n",
              "  }\n",
              "\n",
              "  .colab-df-quickchart:hover {\n",
              "    background-color: var(--hover-bg-color);\n",
              "    box-shadow: 0 1px 2px rgba(60, 64, 67, 0.3), 0 1px 3px 1px rgba(60, 64, 67, 0.15);\n",
              "    fill: var(--button-hover-fill-color);\n",
              "  }\n",
              "\n",
              "  .colab-df-quickchart-complete:disabled,\n",
              "  .colab-df-quickchart-complete:disabled:hover {\n",
              "    background-color: var(--disabled-bg-color);\n",
              "    fill: var(--disabled-fill-color);\n",
              "    box-shadow: none;\n",
              "  }\n",
              "\n",
              "  .colab-df-spinner {\n",
              "    border: 2px solid var(--fill-color);\n",
              "    border-color: transparent;\n",
              "    border-bottom-color: var(--fill-color);\n",
              "    animation:\n",
              "      spin 1s steps(1) infinite;\n",
              "  }\n",
              "\n",
              "  @keyframes spin {\n",
              "    0% {\n",
              "      border-color: transparent;\n",
              "      border-bottom-color: var(--fill-color);\n",
              "      border-left-color: var(--fill-color);\n",
              "    }\n",
              "    20% {\n",
              "      border-color: transparent;\n",
              "      border-left-color: var(--fill-color);\n",
              "      border-top-color: var(--fill-color);\n",
              "    }\n",
              "    30% {\n",
              "      border-color: transparent;\n",
              "      border-left-color: var(--fill-color);\n",
              "      border-top-color: var(--fill-color);\n",
              "      border-right-color: var(--fill-color);\n",
              "    }\n",
              "    40% {\n",
              "      border-color: transparent;\n",
              "      border-right-color: var(--fill-color);\n",
              "      border-top-color: var(--fill-color);\n",
              "    }\n",
              "    60% {\n",
              "      border-color: transparent;\n",
              "      border-right-color: var(--fill-color);\n",
              "    }\n",
              "    80% {\n",
              "      border-color: transparent;\n",
              "      border-right-color: var(--fill-color);\n",
              "      border-bottom-color: var(--fill-color);\n",
              "    }\n",
              "    90% {\n",
              "      border-color: transparent;\n",
              "      border-bottom-color: var(--fill-color);\n",
              "    }\n",
              "  }\n",
              "</style>\n",
              "\n",
              "      <script>\n",
              "        async function quickchart(key) {\n",
              "          const quickchartButtonEl =\n",
              "            document.querySelector('#' + key + ' button');\n",
              "          quickchartButtonEl.disabled = true;  // To prevent multiple clicks.\n",
              "          quickchartButtonEl.classList.add('colab-df-spinner');\n",
              "          try {\n",
              "            const charts = await google.colab.kernel.invokeFunction(\n",
              "                'suggestCharts', [key], {});\n",
              "          } catch (error) {\n",
              "            console.error('Error during call to suggestCharts:', error);\n",
              "          }\n",
              "          quickchartButtonEl.classList.remove('colab-df-spinner');\n",
              "          quickchartButtonEl.classList.add('colab-df-quickchart-complete');\n",
              "        }\n",
              "        (() => {\n",
              "          let quickchartButtonEl =\n",
              "            document.querySelector('#df-cc593f18-b0d3-45f6-972a-5695dabe14dd button');\n",
              "          quickchartButtonEl.style.display =\n",
              "            google.colab.kernel.accessAllowed ? 'block' : 'none';\n",
              "        })();\n",
              "      </script>\n",
              "    </div>\n",
              "\n",
              "    </div>\n",
              "  </div>\n"
            ],
            "text/plain": [
              "              Producto Categoría del Producto     Precio  Costo de envío  \\\n",
              "0         Lavavajillas      Electrodomésticos 1084800.00        56000.00   \n",
              "1             Cama box                Muebles  473800.00        25400.00   \n",
              "2  Balón de baloncesto   Deportes y diversión   23700.00            0.00   \n",
              "3  Modelado predictivo                 Libros   57700.00         1300.00   \n",
              "4          Auriculares           Electrónicos  138900.00         5600.00   \n",
              "\n",
              "  Fecha de Compra         Vendedor Lugar de Compra  Calificación  \\\n",
              "0      11/11/2022    Rafael Acosta          Bogotá             4   \n",
              "1      03/01/2020  Izabela de León          Cúcuta             5   \n",
              "2      25/12/2022    Maria Alfonso        Medellín             5   \n",
              "3      23/11/2021    Lucas Olivera        Medellín             3   \n",
              "4      25/04/2022   Blanca Ramirez          Bogotá             4   \n",
              "\n",
              "       Método de pago  Cantidad de cuotas  lat    lon  \n",
              "0  Tarjeta de crédito                   3 4.61 -74.08  \n",
              "1  Tarjeta de crédito                   2 7.89 -72.51  \n",
              "2               Nequi                   1 6.25 -75.56  \n",
              "3               Nequi                   1 6.25 -75.56  \n",
              "4  Tarjeta de crédito                   7 4.61 -74.08  "
            ]
          },
          "execution_count": 25,
          "metadata": {},
          "output_type": "execute_result"
        }
      ],
      "source": [
        "import pandas as pd\n",
        "\n",
        "url = \"https://raw.githubusercontent.com/alura-es-cursos/challenge1-data-science-latam/refs/heads/main/base-de-datos-challenge1-latam/tienda_1%20.csv\"\n",
        "url2 = \"https://raw.githubusercontent.com/alura-es-cursos/challenge1-data-science-latam/refs/heads/main/base-de-datos-challenge1-latam/tienda_2.csv\"\n",
        "url3 = \"https://raw.githubusercontent.com/alura-es-cursos/challenge1-data-science-latam/refs/heads/main/base-de-datos-challenge1-latam/tienda_3.csv\"\n",
        "url4 = \"https://raw.githubusercontent.com/alura-es-cursos/challenge1-data-science-latam/refs/heads/main/base-de-datos-challenge1-latam/tienda_4.csv\"\n",
        "\n",
        "tienda = pd.read_csv(url)\n",
        "tienda2 = pd.read_csv(url2)\n",
        "tienda3 = pd.read_csv(url3)\n",
        "tienda4 = pd.read_csv(url4)\n",
        "\n",
        "tienda.head()\n",
        "tienda2.head()\n",
        "tienda3.head()\n",
        "tienda4.head()"
      ]
    },
    {
      "cell_type": "code",
      "execution_count": null,
      "metadata": {
        "colab": {
          "base_uri": "https://localhost:8080/"
        },
        "id": "s7Lw1VcpK7V6",
        "outputId": "690f0b09-f0fd-4d13-d294-f1f5e873e3b1"
      },
      "outputs": [
        {
          "name": "stdout",
          "output_type": "stream",
          "text": [
            "<class 'pandas.core.frame.DataFrame'>\n",
            "RangeIndex: 2359 entries, 0 to 2358\n",
            "Data columns (total 12 columns):\n",
            " #   Column                  Non-Null Count  Dtype  \n",
            "---  ------                  --------------  -----  \n",
            " 0   Producto                2359 non-null   object \n",
            " 1   Categoría del Producto  2359 non-null   object \n",
            " 2   Precio                  2359 non-null   float64\n",
            " 3   Costo de envío          2359 non-null   float64\n",
            " 4   Fecha de Compra         2359 non-null   object \n",
            " 5   Vendedor                2359 non-null   object \n",
            " 6   Lugar de Compra         2359 non-null   object \n",
            " 7   Calificación            2359 non-null   int64  \n",
            " 8   Método de pago          2359 non-null   object \n",
            " 9   Cantidad de cuotas      2359 non-null   int64  \n",
            " 10  lat                     2359 non-null   float64\n",
            " 11  lon                     2359 non-null   float64\n",
            "dtypes: float64(4), int64(2), object(6)\n",
            "memory usage: 221.3+ KB\n"
          ]
        }
      ],
      "source": [
        "tienda.info()"
      ]
    },
    {
      "cell_type": "markdown",
      "metadata": {
        "id": "X62IW3KFUIYm"
      },
      "source": [
        "#1. Análisis de facturación\n",
        "\n"
      ]
    },
    {
      "cell_type": "code",
      "execution_count": null,
      "metadata": {
        "id": "xykobSftV64I"
      },
      "outputs": [],
      "source": [
        "def ingresos_totales(tiendas: list = None) -> list:\n",
        "    if not tiendas:\n",
        "        return []\n",
        "    return [df['Precio'].sum().item() for df in tiendas]\n"
      ]
    },
    {
      "cell_type": "code",
      "execution_count": null,
      "metadata": {
        "id": "X0O1dEf5HIJa"
      },
      "outputs": [],
      "source": [
        "tiendas = [tienda, tienda2, tienda3, tienda4]"
      ]
    },
    {
      "cell_type": "code",
      "execution_count": null,
      "metadata": {
        "colab": {
          "base_uri": "https://localhost:8080/"
        },
        "id": "KDyr8E71V3m-",
        "outputId": "c3f193b5-fe25-4a35-a10e-3875ac6d5617"
      },
      "outputs": [
        {
          "data": {
            "text/plain": [
              "[1150880400.0, 1116343500.0, 1098019600.0, 1038375700.0]"
            ]
          },
          "execution_count": 29,
          "metadata": {},
          "output_type": "execute_result"
        }
      ],
      "source": [
        "ingresos_totales(tiendas)"
      ]
    },
    {
      "cell_type": "markdown",
      "metadata": {
        "id": "2V_vcAPzWZmR"
      },
      "source": [
        "# 2. Ventas por categoría"
      ]
    },
    {
      "cell_type": "code",
      "execution_count": null,
      "metadata": {
        "id": "A34YupIuYhfF"
      },
      "outputs": [],
      "source": [
        "def ventas_por_categoria(tiendas: list = None) -> list:\n",
        "    if not tiendas:\n",
        "        return []\n",
        "    resultados = []\n",
        "    for df in tiendas:\n",
        "        # value_counts() es una Serie con el conteo por categoría\n",
        "        conteo = df['Categoría del Producto'].value_counts()\n",
        "        resultados.append(conteo)\n",
        "    return resultados"
      ]
    },
    {
      "cell_type": "code",
      "execution_count": null,
      "metadata": {
        "colab": {
          "base_uri": "https://localhost:8080/"
        },
        "id": "yZR6cOjXYSk1",
        "outputId": "6dab915b-706c-4fcd-c279-3b2cf84bd1c0"
      },
      "outputs": [
        {
          "data": {
            "text/plain": [
              "[Categoría del Producto\n",
              " Muebles                    465\n",
              " Electrónicos               448\n",
              " Juguetes                   324\n",
              " Electrodomésticos          312\n",
              " Deportes y diversión       284\n",
              " Instrumentos musicales     182\n",
              " Libros                     173\n",
              " Artículos para el hogar    171\n",
              " Name: count, dtype: int64,\n",
              " Categoría del Producto\n",
              " Muebles                    442\n",
              " Electrónicos               422\n",
              " Juguetes                   313\n",
              " Electrodomésticos          305\n",
              " Deportes y diversión       275\n",
              " Instrumentos musicales     224\n",
              " Libros                     197\n",
              " Artículos para el hogar    181\n",
              " Name: count, dtype: int64,\n",
              " Categoría del Producto\n",
              " Muebles                    499\n",
              " Electrónicos               451\n",
              " Juguetes                   315\n",
              " Electrodomésticos          278\n",
              " Deportes y diversión       277\n",
              " Libros                     185\n",
              " Instrumentos musicales     177\n",
              " Artículos para el hogar    177\n",
              " Name: count, dtype: int64,\n",
              " Categoría del Producto\n",
              " Muebles                    480\n",
              " Electrónicos               451\n",
              " Juguetes                   338\n",
              " Deportes y diversión       277\n",
              " Electrodomésticos          254\n",
              " Artículos para el hogar    201\n",
              " Libros                     187\n",
              " Instrumentos musicales     170\n",
              " Name: count, dtype: int64]"
            ]
          },
          "execution_count": 31,
          "metadata": {},
          "output_type": "execute_result"
        }
      ],
      "source": [
        "ventas_por_categoria(tiendas)"
      ]
    },
    {
      "cell_type": "markdown",
      "metadata": {
        "id": "Rq6tU_xSY3jk"
      },
      "source": [
        "# 3. Calificación promedio de la tienda\n"
      ]
    },
    {
      "cell_type": "code",
      "execution_count": null,
      "metadata": {
        "id": "bh3jjjJwY5MU"
      },
      "outputs": [],
      "source": [
        "def cal_promedio(tiendas: list = None) -> list:\n",
        "    if not tiendas:\n",
        "        return []\n",
        "    return [round(df['Calificación'].mean(),2).item() for df in tiendas]"
      ]
    },
    {
      "cell_type": "code",
      "execution_count": null,
      "metadata": {
        "colab": {
          "base_uri": "https://localhost:8080/"
        },
        "id": "I0KkjPoTY88F",
        "outputId": "b1380909-c370-4e1a-e9e8-ede4c46fcde2"
      },
      "outputs": [
        {
          "data": {
            "text/plain": [
              "[3.98, 4.04, 4.05, 4.0]"
            ]
          },
          "execution_count": 33,
          "metadata": {},
          "output_type": "execute_result"
        }
      ],
      "source": [
        "cal_promedio(tiendas)"
      ]
    },
    {
      "cell_type": "markdown",
      "metadata": {
        "id": "i8hvbRAQ_ABY"
      },
      "source": [
        "#3.1 Calificación promedio de la tienda a través del tiempo"
      ]
    },
    {
      "cell_type": "code",
      "execution_count": null,
      "metadata": {
        "colab": {
          "base_uri": "https://localhost:8080/"
        },
        "id": "w9fcAdBc_JO1",
        "outputId": "e7602ed5-7a34-425d-9459-9ee45f5e526a"
      },
      "outputs": [
        {
          "name": "stdout",
          "output_type": "stream",
          "text": [
            "31/12/2022\n",
            "01/01/2020\n"
          ]
        }
      ],
      "source": [
        "# Necesitamos conocer la estructura de la fecha y tratar de homologarla\n",
        "\n",
        "type(tienda['Fecha de Compra'])\n",
        "print(max(tienda['Fecha de Compra']))\n",
        "print(min(tienda['Fecha de Compra']))"
      ]
    },
    {
      "cell_type": "code",
      "execution_count": null,
      "metadata": {
        "id": "Je1pyvxBA0Dj"
      },
      "outputs": [],
      "source": []
    },
    {
      "cell_type": "markdown",
      "metadata": {
        "id": "bPpESto4DS_8"
      },
      "source": [
        "## Se procede a calcular el promedio de la tienda por mes"
      ]
    },
    {
      "cell_type": "code",
      "execution_count": null,
      "metadata": {
        "colab": {
          "background_save": true,
          "base_uri": "https://localhost:8080/",
          "height": 373
        },
        "id": "_a1rb3xYj7IU",
        "outputId": "73415964-cb4a-4e59-9ef3-a8bd6a767b1b"
      },
      "outputs": [
        {
          "name": "stdout",
          "output_type": "stream",
          "text": [
            "  Fecha de Compra      MES\n",
            "0      2021-01-16  2021-01\n",
            "1      2022-05-18  2022-05\n",
            "2      2021-03-15  2021-03\n",
            "3      2022-05-03  2022-05\n",
            "4      2020-11-07  2020-11\n",
            "  Fecha de Compra      MES\n",
            "0      2021-08-04  2021-08\n",
            "1      2020-11-26  2020-11\n",
            "2      2021-10-22  2021-10\n",
            "3      2022-05-04  2022-05\n",
            "4      2022-02-26  2022-02\n",
            "  Fecha de Compra      MES\n",
            "0      2021-12-17  2021-12\n",
            "1      2021-02-10  2021-02\n",
            "2      2023-01-22  2023-01\n",
            "3      2022-03-22  2022-03\n",
            "4      2022-01-12  2022-01\n",
            "  Fecha de Compra      MES\n",
            "0      2022-11-11  2022-11\n",
            "1      2020-01-03  2020-01\n",
            "2      2022-12-25  2022-12\n",
            "3      2021-11-23  2021-11\n",
            "4      2022-04-25  2022-04\n"
          ]
        }
      ],
      "source": [
        "import pandas as pd\n",
        "\n",
        "def procesar_tienda(df: pd.DataFrame) -> pd.DataFrame:\n",
        "    df = df.copy()\n",
        "    # Indicamos dayfirst=True para dd/mm/YYYY\n",
        "    df['Fecha de Compra'] = pd.to_datetime(\n",
        "        df['Fecha de Compra'],\n",
        "        dayfirst=True,          # <- aquí\n",
        "        errors='coerce'         # convierte en NaT los que no pueda parsear\n",
        "    )\n",
        "    df['MES'] = df['Fecha de Compra'].dt.to_period('M')\n",
        "    return df\n",
        "\n",
        "# Ejemplo con una lista de DataFrames\n",
        "lista_tiendas = [tienda, tienda2, tienda3, tienda4]\n",
        "tiendas_procesadas = [procesar_tienda(df) for df in lista_tiendas]\n",
        "\n",
        "print(tienda[['Fecha de Compra','MES']].head())\n",
        "print(tienda2[['Fecha de Compra','MES']].head())\n",
        "print(tienda3[['Fecha de Compra','MES']].head())\n",
        "print(tienda4[['Fecha de Compra','MES']].head())\n",
        "\n",
        "\n"
      ]
    },
    {
      "cell_type": "code",
      "execution_count": null,
      "metadata": {
        "id": "Meuc1MC4DSfE"
      },
      "outputs": [],
      "source": [
        "promedio_calif_por_mes = (\n",
        "    tienda.groupby('MES')['Calificación'].mean()\n",
        "    .reset_index(name='Promedio Calificación')\n",
        ")\n",
        "\n",
        "print(promedio_calif_por_mes)"
      ]
    },
    {
      "cell_type": "markdown",
      "metadata": {
        "id": "ekrB0EM-EY0W"
      },
      "source": [
        "#Gráfica de calificación promedio en el tiempo de la tienda 1"
      ]
    },
    {
      "cell_type": "code",
      "execution_count": null,
      "metadata": {
        "id": "RqorVtN7EeQp"
      },
      "outputs": [],
      "source": [
        "from matplotlib import pyplot as plt\n",
        "\n",
        "promedio_calif_por_mes.info()\n",
        "promedio_calif_por_mes['Promedio Calificación']\n",
        "promedio_calif_por_mes['Fecha'] = promedio_calif_por_mes['MES'].dt.to_timestamp()\n",
        "\n",
        "plt.plot(promedio_calif_por_mes['Fecha'],promedio_calif_por_mes['Promedio Calificación'])"
      ]
    },
    {
      "cell_type": "code",
      "execution_count": null,
      "metadata": {
        "id": "pCBDnxljOQT3"
      },
      "outputs": [],
      "source": [
        "plt.plot(promedio_calif_por_mes['Fecha'],promedio_calif_por_mes['Promedio Calificación'])"
      ]
    },
    {
      "cell_type": "markdown",
      "metadata": {
        "id": "DmNp1KPBZCm-"
      },
      "source": [
        "# 4. Productos más y menos vendidos"
      ]
    },
    {
      "cell_type": "code",
      "execution_count": null,
      "metadata": {
        "id": "0Sw3sd4IZIGW"
      },
      "outputs": [],
      "source": [
        "resultados = ventas_por_categoria(tiendas)\n",
        "print(resultados[0])\n"
      ]
    },
    {
      "cell_type": "code",
      "execution_count": null,
      "metadata": {
        "id": "cn2jKbuYhhud"
      },
      "outputs": [],
      "source": [
        "resultados = ventas_por_categoria(tiendas)\n",
        "\n",
        "# Para obtener sólo los valores máximos y mínimos:\n",
        "maximos = [s.max() for s in resultados]\n",
        "minimos = [s.min() for s in resultados]\n",
        "\n",
        "# Obteneido cada categoria\n",
        "categorias_max = [s.idxmax() for s in resultados]\n",
        "categorias_min = [s.idxmin() for s in resultados]\n",
        "\n",
        "# Print max y minimo por categoria y tienda\n",
        "for i, s in enumerate(resultados, start=1):\n",
        "    print(f\"Tienda {i}:\")\n",
        "    print(\"  Máximo:\", s.max(), \"en categoría\", s.idxmax())\n",
        "    print(\"  Mínimo:\", s.min(), \"en categoría\", s.idxmin())\n"
      ]
    },
    {
      "cell_type": "markdown",
      "metadata": {
        "id": "Fl0cGi3bZKqU"
      },
      "source": [
        "# 5. Envío promedio por tienda"
      ]
    },
    {
      "cell_type": "code",
      "execution_count": null,
      "metadata": {
        "id": "S2JeaCykZNy9"
      },
      "outputs": [],
      "source": [
        "import pandas as pd\n",
        "\n",
        "def envio_promedio(tiendas: list[pd.DataFrame] | None = None) -> pd.DataFrame:\n",
        "\n",
        "    # Si no hay tiendas, devolvemos un DataFrame vacío con las mismas columnas\n",
        "    if not tiendas:\n",
        "        return pd.DataFrame(columns=['Tienda', 'Promedio'])\n",
        "\n",
        "    filas: list[dict] = []\n",
        "    # Recorremos cada DataFrame y calculamos su promedio\n",
        "    for idx, df in enumerate(tiendas, start=1):\n",
        "        # promedio\n",
        "        promedio = df['Costo de envío'].mean()\n",
        "        filas.append({\n",
        "            'Tienda':   f'Tienda_{idx}',\n",
        "            'Promedio': round(promedio,2)\n",
        "        })\n",
        "\n",
        "    # Construimos el DataFrame final\n",
        "    df_promedios = pd.DataFrame(filas)\n",
        "    return df_promedios\n"
      ]
    },
    {
      "cell_type": "code",
      "execution_count": null,
      "metadata": {
        "id": "0tSdCie9ZQlt"
      },
      "outputs": [],
      "source": [
        "resultados_promedios=envio_promedio(tiendas)"
      ]
    },
    {
      "cell_type": "code",
      "execution_count": null,
      "metadata": {
        "id": "4yzjuGnnuifh"
      },
      "outputs": [],
      "source": [
        "df_ordenado = resultados_promedios.sort_values('Promedio', ascending=False)\n",
        "print(df_ordenado)"
      ]
    },
    {
      "cell_type": "markdown",
      "metadata": {
        "id": "j8TaB_V_xLnz"
      },
      "source": [
        "# Total de Ganancias\n",
        "Diferencia entre ventas totales y gastos totales.\n",
        "Se sumaran todas las ventas de cada tienda, para posteriormente restar la suma de gastos de envio."
      ]
    },
    {
      "cell_type": "code",
      "execution_count": null,
      "metadata": {
        "id": "f1C-M3ZDxLFp"
      },
      "outputs": [],
      "source": [
        "import pandas as pd\n",
        "\n",
        "def profit(tiendas: list[pd.DataFrame] | None = None) -> pd.DataFrame:\n",
        "\n",
        "    # Si no hay tiendas, devolvemos un DataFrame vacío con las mismas columnas\n",
        "    if not tiendas:\n",
        "        return pd.DataFrame(columns=['Tienda', 'Promedio'])\n",
        "\n",
        "    filas: list[dict] = []\n",
        "    # Recorremos cada DataFrame y calculamos su promedio\n",
        "    for idx, df in enumerate(tiendas, start=1):\n",
        "        # promedio\n",
        "        costo = df['Costo de envío'].sum()\n",
        "        venta = df['Precio'].sum()\n",
        "        ingreso=venta-costo\n",
        "        filas.append({\n",
        "            'Tienda':   f'Tienda_{idx}',\n",
        "            'Ganancia': round(ingreso,2)\n",
        "        })\n",
        "\n",
        "    # Construimos el DataFrame final\n",
        "    df_ingreso = pd.DataFrame(filas)\n",
        "    return df_ingreso\n",
        "\n",
        "\n"
      ]
    },
    {
      "cell_type": "code",
      "execution_count": null,
      "metadata": {
        "id": "ZBf3hGeIia0V"
      },
      "outputs": [],
      "source": [
        "pd.set_option('display.float_format', '{:.2f}'.format)\n",
        "\n",
        "profit(tiendas)"
      ]
    },
    {
      "cell_type": "markdown",
      "metadata": {
        "id": "G1jKiqCHv1Dn"
      },
      "source": [
        "#GRÁFICOS\n",
        "1) Gráfico de líneas con gráfico de barras"
      ]
    },
    {
      "cell_type": "code",
      "execution_count": null,
      "metadata": {
        "id": "IFsscrmCv0sE"
      },
      "outputs": [],
      "source": [
        "from matplotlib import pyplot as plt\n",
        "\n",
        "# Gráficar con precios vs costo envio\n",
        "\n",
        "precios = ingresos_totales(tiendas)\n",
        "resultados_promedios=envio_promedio(tiendas)\n",
        "print(resultados_promedios['Promedio'])\n",
        "print(precios)\n",
        "plt.bar(resultados_promedios['Tienda'], precios, alpha =0.5)\n",
        "plt.bar(resultados_promedios['Tienda'][0], precios[0],)\n",
        "#FACTURACION DE LAS TIENDAS\n",
        "plt.title('Costo de envio por Tienda')"
      ]
    },
    {
      "cell_type": "markdown",
      "metadata": {
        "id": "eKqlZkfBNmlh"
      },
      "source": [
        "#Gráfica de pastel\n"
      ]
    },
    {
      "cell_type": "markdown",
      "metadata": {
        "id": "G_i459ogeWX_"
      },
      "source": [
        "##Ventas totales de cada tienda"
      ]
    },
    {
      "cell_type": "code",
      "execution_count": null,
      "metadata": {
        "id": "sThXp-5XeZoZ"
      },
      "outputs": [],
      "source": [
        "precios = ingresos_totales(tiendas)\n",
        "plt.pie(precios, labels = ['Tienda1','Tienda2','Tienda3','Tienda4'], autopct='%1.1f%%')\n",
        "plt.title('Ventas totales por Tienda')"
      ]
    },
    {
      "cell_type": "markdown",
      "metadata": {
        "id": "SRtau4F2eRBT"
      },
      "source": [
        "## Ventas por categoría de cada tienda"
      ]
    },
    {
      "cell_type": "code",
      "execution_count": null,
      "metadata": {
        "id": "sLOSiettNurB"
      },
      "outputs": [],
      "source": []
    },
    {
      "cell_type": "markdown",
      "metadata": {
        "id": "4gAaxLDSX5lk"
      },
      "source": [
        "#**Análisis**\n",
        "\n",
        "###**Ingresos:**\n",
        "\n",
        "La **Tienda 1** y **Tienda 2** cuentan con mayor nivel de ingresos. Por otro lado la **Tienda 3** y **Tienda 4**, tienen menor nivel de ingresos.\n",
        "\n",
        "###**Coste de envio:**\n",
        "\n",
        "La **Tienda 1 y la Tienda 2** cuentan con un mayor costo de envio promedio. Esto se debe a su mayor nivel de ventas.\n",
        "\n",
        "###**Ganancias:**\n",
        "\n",
        "Las **Tiendas 1 y 2** cuentan con un mayor margen de ganancias.\n",
        "\n",
        "###**Tendencia de calificación por tienda**\n",
        "\n",
        "\n",
        "###**Ventas por categoría**\n",
        "\n",
        "En todas las tiendas, el producto que más se vende son los muebles. En la **Tienda 1** y **2** la segunda categoría que más se vende es son los Artículos para el Hogar, mientras que en la **tienda 3 y 4** son los Instrumentos musicales\n",
        "\n",
        "###**Conclusión**\n",
        "De manera general, no existe una diferencia muy grande entre ventas, ingresos y ganancias entre las tiendas, pero si se debe tomar la decisión de cerrar una tienda, esta debería ser la **Tienda 4**.\n",
        "\n"
      ]
    }
  ],
  "metadata": {
    "colab": {
      "provenance": []
    },
    "kernelspec": {
      "display_name": "Python 3",
      "name": "python3"
    },
    "language_info": {
      "name": "python"
    }
  },
  "nbformat": 4,
  "nbformat_minor": 0
}